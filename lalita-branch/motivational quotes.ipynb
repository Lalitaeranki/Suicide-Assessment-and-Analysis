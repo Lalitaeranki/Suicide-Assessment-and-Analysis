{
 "cells": [
  {
   "cell_type": "code",
   "execution_count": 1,
   "metadata": {},
   "outputs": [],
   "source": [
    "from bs4 import BeautifulSoup\n",
    "import requests\n",
    "from splinter import Browser\n",
    "from splinter.exceptions import ElementDoesNotExist\n"
   ]
  },
  {
   "cell_type": "code",
   "execution_count": 2,
   "metadata": {},
   "outputs": [],
   "source": [
    "url=\"http://quotes.toscrape.com/\""
   ]
  },
  {
   "cell_type": "code",
   "execution_count": 4,
   "metadata": {},
   "outputs": [],
   "source": [
    "executable_path = {'executable_path': 'chromedriver.exe'}\n",
    "browser = Browser('chrome', **executable_path, headless=False)"
   ]
  },
  {
   "cell_type": "code",
   "execution_count": 5,
   "metadata": {},
   "outputs": [],
   "source": [
    "url2=\"https://www.brainyquote.com/topics/motivational\""
   ]
  },
  {
   "cell_type": "code",
   "execution_count": 6,
   "metadata": {},
   "outputs": [],
   "source": [
    "html = browser.html\n",
    "soup = BeautifulSoup(html, 'html.parser')\n"
   ]
  },
  {
   "cell_type": "code",
   "execution_count": 7,
   "metadata": {},
   "outputs": [],
   "source": [
    "browser.visit(url2)"
   ]
  },
  {
   "cell_type": "code",
   "execution_count": 8,
   "metadata": {},
   "outputs": [],
   "source": [
    "results_quotes=soup.find_all('div',class_='qti-listm')"
   ]
  },
  {
   "cell_type": "code",
   "execution_count": 9,
   "metadata": {},
   "outputs": [
    {
     "data": {
      "text/plain": [
       "[<div class=\"qti-listm\">\n",
       " <a class=\"oncl_q\" href=\"/quotes/carol_burnett_371189?src=t_motivational\" title=\"view quote\"><img alt=\"Only I can change my life. No one can do it for me. - Carol Burnett\" class=\"bqpht zoomc\" data-img-url=\"/photos_tr/en/c/carolburnett/371189/carolburnett1.jpg\" id=\"qimage_371189\" src=\"/photos_tr/en/c/carolburnett/371189/carolburnett1.jpg\"/></a>\n",
       " </div>, <div class=\"qti-listm\">\n",
       " <a class=\"oncl_q\" href=\"/quotes/st_jerome_389605?src=t_motivational\" title=\"view quote\"><img alt=\"Good, better, best. Never let it rest. 'Til your good is better and your better is best. - St. Jerome\" class=\"bqpht zoomc\" data-img-url=\"/photos_tr/en/s/stjerome/389605/stjerome1.jpg\" id=\"qimage_389605\" src=\"/photos_tr/en/s/stjerome/389605/stjerome1.jpg\"/></a>\n",
       " </div>, <div class=\"qti-listm\">\n",
       " <a class=\"oncl_q\" href=\"/quotes/charles_r_swindoll_388332?src=t_motivational\" title=\"view quote\"><img alt=\"Life is 10% what happens to you and 90% how you react to it. - Charles R. Swindoll\" class=\"bqpht zoomc\" data-img-url=\"/photos_tr/en/c/charlesrswindoll/388332/charlesrswindoll1.jpg\" id=\"qimage_388332\" src=\"/photos_tr/en/c/charlesrswindoll/388332/charlesrswindoll1.jpg\"/></a>\n",
       " </div>, <div class=\"qti-listm\">\n",
       " <a class=\"oncl_q\" href=\"/quotes/og_mandino_157864?src=t_motivational\" title=\"view quote\"><img alt=\"Failure will never overtake me if my determination to succeed is strong enough. - Og Mandino\" class=\"bqpht zoomc\" data-img-url=\"/photos_tr/en/o/ogmandino/157864/ogmandino1.jpg\" id=\"qimage_157864\" src=\"/photos_tr/en/o/ogmandino/157864/ogmandino1.jpg\"/></a>\n",
       " </div>, <div class=\"qti-listm\">\n",
       " <a class=\"oncl_q\" href=\"/quotes/helen_keller_164579?src=t_motivational\" title=\"view quote\"><img alt=\"Optimism is the faith that leads to achievement. Nothing can be done without hope and confidence. - Helen Keller\" class=\"bqpht zoomc\" data-img-url=\"/photos_tr/en/h/helenkeller/164579/helenkeller1.jpg\" id=\"qimage_164579\" src=\"/photos_tr/en/h/helenkeller/164579/helenkeller1.jpg\"/></a>\n",
       " </div>, <div class=\"qti-listm\">\n",
       " <a class=\"oncl_q\" href=\"/quotes/simone_de_beauvoir_149611?src=t_motivational\" title=\"view quote\"><img alt=\"Change your life today. Don't gamble on the future, act now, without delay. - Simone de Beauvoir\" class=\"bqpht zoomc\" data-img-url=\"/photos_tr/en/s/simonedebeauvoir/149611/simonedebeauvoir1.jpg\" id=\"qimage_149611\" src=\"/photos_tr/en/s/simonedebeauvoir/149611/simonedebeauvoir1.jpg\"/></a>\n",
       " </div>, <div class=\"qti-listm\">\n",
       " <a class=\"oncl_q\" href=\"/quotes/eleanor_roosevelt_143006?src=t_motivational\" title=\"view quote\"><img alt=\"With the new day comes new strength and new thoughts. - Eleanor Roosevelt\" class=\"bqpht zoomc\" data-img-url=\"/photos_tr/en/e/eleanorroosevelt/143006/eleanorroosevelt1.jpg\" id=\"qimage_143006\" src=\"/photos_tr/en/e/eleanorroosevelt/143006/eleanorroosevelt1.jpg\"/></a>\n",
       " </div>, <div class=\"qti-listm\">\n",
       " <a class=\"oncl_q\" href=\"/quotes/unknown_159550?src=t_motivational\" title=\"view quote\"><img alt=\"The past cannot be changed. The future is yet in your power. - Unknown\" class=\"bqpht zoomc\" data-img-url=\"/photos_tr/en/u/unknown/159550/unknown1.jpg\" id=\"qimage_159550\" src=\"/photos_tr/en/u/unknown/159550/unknown1.jpg\"/></a>\n",
       " </div>, <div class=\"qti-listm\">\n",
       " <a class=\"oncl_q\" href=\"/quotes/nelson_mandela_378967?src=t_motivational\" title=\"view quote\"><img alt=\"It always seems impossible until it's done. - Nelson Mandela\" class=\"bqpht zoomc\" data-img-url=\"/photos_tr/en/n/nelsonmandela/378967/nelsonmandela1.jpg\" id=\"qimage_378967\" src=\"/photos_tr/en/n/nelsonmandela/378967/nelsonmandela1.jpg\"/></a>\n",
       " </div>, <div class=\"qti-listm\">\n",
       " </div>, <div class=\"qti-listm\">\n",
       " <a class=\"oncl_q\" href=\"/quotes/confucius_140908?src=t_motivational\" title=\"view quote\"><img alt=\"It does not matter how slowly you go as long as you do not stop. - Confucius\" class=\"bqpht zoomc\" data-img-url=\"/photos_tr/en/c/confucius/140908/confucius1.jpg\" id=\"qimage_140908\" src=\"/images/600x315.png\"/></a>\n",
       " </div>, <div class=\"qti-listm\">\n",
       " <a class=\"oncl_q\" href=\"/quotes/bo_jackson_129219?src=t_motivational\" title=\"view quote\"><img alt=\"Set your goals high, and don't stop till you get there. - Bo Jackson\" class=\"bqpht zoomc\" data-img-url=\"/photos_tr/en/b/bojackson/129219/bojackson1.jpg\" id=\"qimage_129219\" src=\"/images/600x315.png\"/></a>\n",
       " </div>, <div class=\"qti-listm\">\n",
       " <a class=\"oncl_q\" href=\"/quotes/rabindranath_tagore_383735?src=t_motivational\" title=\"view quote\"><img alt=\"You can't cross the sea merely by standing and staring at the water. - Rabindranath Tagore\" class=\"bqpht zoomc\" data-img-url=\"/photos_tr/en/r/rabindranathtagore/383735/rabindranathtagore1.jpg\" id=\"qimage_383735\" src=\"/images/600x315.png\"/></a>\n",
       " </div>, <div class=\"qti-listm\">\n",
       " <a class=\"oncl_q\" href=\"/quotes/a_p_j_abdul_kalam_384107?src=t_motivational\" title=\"view quote\"><img alt=\"We should not give up and we should not allow the problem to defeat us. - A. P. J. Abdul Kalam\" class=\"bqpht zoomc\" data-img-url=\"/photos_tr/en/a/apjabdulkalam/384107/apjabdulkalam1.jpg\" id=\"qimage_384107\" src=\"/images/600x315.png\"/></a>\n",
       " </div>, <div class=\"qti-listm\">\n",
       " <a class=\"oncl_q\" href=\"/quotes/og_mandino_164003?src=t_motivational\" title=\"view quote\"><img alt=\"Always do your best. What you plant now, you will harvest later. - Og Mandino\" class=\"bqpht zoomc\" data-img-url=\"/photos_tr/en/o/ogmandino/164003/ogmandino1.jpg\" id=\"qimage_164003\" src=\"/images/600x315.png\"/></a>\n",
       " </div>, <div class=\"qti-listm\">\n",
       " <a class=\"oncl_q\" href=\"/quotes/leo_buscaglia_150305?src=t_motivational\" title=\"view quote\"><img alt=\"Your talent is God's gift to you. What you do with it is your gift back to God. - Leo Buscaglia\" class=\"bqpht zoomc\" data-img-url=\"/photos_tr/en/l/leobuscaglia/150305/leobuscaglia1.jpg\" id=\"qimage_150305\" src=\"/images/600x315.png\"/></a>\n",
       " </div>, <div class=\"qti-listm\">\n",
       " <a class=\"oncl_q\" href=\"/quotes/walt_disney_130027?src=t_motivational\" title=\"view quote\"><img alt=\"If you can dream it, you can do it. - Walt Disney\" class=\"bqpht zoomc\" data-img-url=\"/photos_tr/en/w/waltdisney/130027/waltdisney1.jpg\" id=\"qimage_130027\" src=\"/images/600x315.png\"/></a>\n",
       " </div>, <div class=\"qti-listm\">\n",
       " </div>, <div class=\"qti-listm\">\n",
       " <a class=\"oncl_q\" href=\"/quotes/mark_twain_118964?src=t_motivational\" title=\"view quote\"><img alt=\"The secret of getting ahead is getting started. - Mark Twain\" class=\"bqpht zoomc\" data-img-url=\"/photos_tr/en/m/marktwain/118964/marktwain1.jpg\" id=\"qimage_118964\" src=\"/images/600x315.png\"/></a>\n",
       " </div>, <div class=\"qti-listm\">\n",
       " </div>, <div class=\"qti-listm\">\n",
       " <a class=\"oncl_q\" href=\"/quotes/robert_h_schuller_107067?src=t_motivational\" title=\"view quote\"><img alt=\"Problems are not stop signs, they are guidelines. - Robert H. Schuller\" class=\"bqpht zoomc\" data-img-url=\"/photos_tr/en/r/roberthschuller/107067/roberthschuller1.jpg\" id=\"qimage_107067\" src=\"/images/600x315.png\"/></a>\n",
       " </div>, <div class=\"qti-listm\">\n",
       " <a class=\"oncl_q\" href=\"/quotes/dale_carnegie_156627?src=t_motivational\" title=\"view quote\"><img alt=\"If you want to conquer fear, don't sit home and think about it. Go out and get busy. - Dale Carnegie\" class=\"bqpht zoomc\" data-img-url=\"/photos_tr/en/d/dalecarnegie/156627/dalecarnegie1.jpg\" id=\"qimage_156627\" src=\"/images/600x315.png\"/></a>\n",
       " </div>, <div class=\"qti-listm\">\n",
       " <a class=\"oncl_q\" href=\"/quotes/h_g_wells_163592?src=t_motivational\" title=\"view quote\"><img alt=\"If you fell down yesterday, stand up today. - H. G. Wells\" class=\"bqpht zoomc\" data-img-url=\"/photos_tr/en/h/hgwells/163592/hgwells1.jpg\" id=\"qimage_163592\" src=\"/images/600x315.png\"/></a>\n",
       " </div>, <div class=\"qti-listm\">\n",
       " <a class=\"oncl_q\" href=\"/quotes/tony_robbins_147791?src=t_motivational\" title=\"view quote\"><img alt=\"Setting goals is the first step in turning the invisible into the visible. - Tony Robbins\" class=\"bqpht zoomc\" data-img-url=\"/photos_tr/en/t/tonyrobbins/147791/tonyrobbins1.jpg\" id=\"qimage_147791\" src=\"/images/600x315.png\"/></a>\n",
       " </div>, <div class=\"qti-listm\">\n",
       " <a class=\"oncl_q\" href=\"/quotes/theodore_roosevelt_136001?src=t_motivational\" title=\"view quote\"><img alt=\"Keep your eyes on the stars, and your feet on the ground. - Theodore Roosevelt\" class=\"bqpht zoomc\" data-img-url=\"/photos_tr/en/t/theodoreroosevelt/136001/theodoreroosevelt1.jpg\" id=\"qimage_136001\" src=\"/images/600x315.png\"/></a>\n",
       " </div>, <div class=\"qti-listm\">\n",
       " <a class=\"oncl_q\" href=\"/quotes/ayn_rand_141517?src=t_motivational\" title=\"view quote\"><img alt=\"A creative man is motivated by the desire to achieve, not by the desire to beat others. - Ayn Rand\" class=\"bqpht zoomc\" data-img-url=\"/photos_tr/en/a/aynrand/141517/aynrand1.jpg\" id=\"qimage_141517\" src=\"/images/600x315.png\"/></a>\n",
       " </div>]"
      ]
     },
     "execution_count": 9,
     "metadata": {},
     "output_type": "execute_result"
    }
   ],
   "source": [
    "results_quotes"
   ]
  },
  {
   "cell_type": "code",
   "execution_count": 17,
   "metadata": {},
   "outputs": [],
   "source": [
    "for a in soup.find_all('a', class_='oncl_q'):\n",
    "    quote_url=\"https://www.brainyquote.com\"+a.get_attribute_list('href')[0]\n",
    "    browser.visit(quote_url)"
   ]
  },
  {
   "cell_type": "code",
   "execution_count": 18,
   "metadata": {},
   "outputs": [],
   "source": [
    "quote_results=[]\n",
    "for quote_result in soup.find_all('a',class_='oncl_q'):\n",
    "    motivational=quote_result.text.strip()\n",
    "    quote_results.append(motivational)"
   ]
  },
  {
   "cell_type": "code",
   "execution_count": 19,
   "metadata": {},
   "outputs": [
    {
     "name": "stdout",
     "output_type": "stream",
     "text": [
      "['Only I can change my life. No one can do it for me.', \"Good, better, best. Never let it rest. 'Til your good is better and your better is best.\", 'Life is 10% what happens to you and 90% how you react to it.', 'Failure will never overtake me if my determination to succeed is strong enough.', 'Optimism is the faith that leads to achievement. Nothing can be done without hope and confidence.', \"Change your life today. Don't gamble on the future, act now, without delay.\", 'With the new day comes new strength and new thoughts.', 'The past cannot be changed. The future is yet in your power.', \"It always seems impossible until it's done.\", \"Infuse your life with action. Don't wait for it to happen. Make it happen. Make your own future. Make your own hope. Make your own love. And whatever your beliefs, honor your creator, not by passively waiting for grace to come down from upon high, but by doing what you can to make grace happen... yourself, right now, right down here on Earth.\", 'It does not matter how slowly you go as long as you do not stop.', \"Set your goals high, and don't stop till you get there.\", \"You can't cross the sea merely by standing and staring at the water.\", 'We should not give up and we should not allow the problem to defeat us.', 'Always do your best. What you plant now, you will harvest later.', \"Your talent is God's gift to you. What you do with it is your gift back to God.\", 'If you can dream it, you can do it.', 'Believe in yourself! Have faith in your abilities! Without a humble but reasonable confidence in your own powers you cannot be successful or happy.', 'The secret of getting ahead is getting started.', 'Our greatest weakness lies in giving up. The most certain way to succeed is always to try just one more time.', 'Problems are not stop signs, they are guidelines.', \"If you want to conquer fear, don't sit home and think about it. Go out and get busy.\", 'If you fell down yesterday, stand up today.', 'Setting goals is the first step in turning the invisible into the visible.', 'Keep your eyes on the stars, and your feet on the ground.', 'A creative man is motivated by the desire to achieve, not by the desire to beat others.']\n"
     ]
    }
   ],
   "source": [
    "quote_results\n",
    "wordGrabber=[]\n",
    "\n",
    "\n",
    "for element in quote_results:\n",
    "    if element != '':\n",
    "        wordGrabber.append(element)\n",
    "\n",
    "print (wordGrabber)"
   ]
  },
  {
   "cell_type": "code",
   "execution_count": 15,
   "metadata": {},
   "outputs": [
    {
     "data": {
      "text/plain": [
       "26"
      ]
     },
     "execution_count": 15,
     "metadata": {},
     "output_type": "execute_result"
    }
   ],
   "source": [
    "len(wordGrabber)"
   ]
  },
  {
   "cell_type": "code",
   "execution_count": null,
   "metadata": {},
   "outputs": [],
   "source": []
  }
 ],
 "metadata": {
  "kernelspec": {
   "display_name": "Python [default]",
   "language": "python",
   "name": "python3"
  },
  "language_info": {
   "codemirror_mode": {
    "name": "ipython",
    "version": 3
   },
   "file_extension": ".py",
   "mimetype": "text/x-python",
   "name": "python",
   "nbconvert_exporter": "python",
   "pygments_lexer": "ipython3",
   "version": "3.6.5"
  }
 },
 "nbformat": 4,
 "nbformat_minor": 2
}
